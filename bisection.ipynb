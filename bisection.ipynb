{
 "cells": [
  {
   "cell_type": "code",
   "execution_count": null,
   "id": "4e17926d",
   "metadata": {},
   "outputs": [
    {
     "name": "stdout",
     "output_type": "stream",
     "text": [
      "Step 1 ----> a = 2.000000 , b=3.000000 , c=3.000000 \n",
      "Step 2 ----> a = 2.000000 , b=2.500000 , c=2.500000 \n",
      "Step 3 ----> a = 2.000000 , b=2.250000 , c=2.250000 \n",
      "Step 4 ----> a = 2.000000 , b=2.125000 , c=2.125000 \n",
      "Step 5 ----> a = 2.062500 , b=2.125000 , c=2.125000 \n",
      "Step 6 ----> a = 2.093750 , b=2.125000 , c=2.125000 \n",
      "Step 7 ----> a = 2.093750 , b=2.109375 , c=2.109375 \n",
      "Step 8 ----> a = 2.093750 , b=2.101562 , c=2.101562 \n",
      "Step 9 ----> a = 2.093750 , b=2.097656 , c=2.097656 \n",
      "Step 10 ----> a = 2.093750 , b=2.095703 , c=2.095703 \n",
      "Step 11 ----> a = 2.093750 , b=2.094727 , c=2.094727 \n",
      "Step 12 ----> a = 2.094238 , b=2.094727 , c=2.094727 \n",
      "Step 13 ----> a = 2.094482 , b=2.094727 , c=2.094727 \n",
      "Step 14 ----> a = 2.094482 , b=2.094604 , c=2.094604 \n",
      "Step 15 ----> a = 2.094543 , b=2.094604 , c=2.094604 \n",
      "Step 16 ----> a = 2.094543 , b=2.094574 , c=2.094574 \n",
      "Step 17 ----> a = 2.094543 , b=2.094559 , c=2.094559 \n",
      "Step 18 ----> a = 2.094551 , b=2.094559 , c=2.094559 \n",
      "Step 19 ----> a = 2.094551 , b=2.094555 , c=2.094555 \n",
      "Step 20 ----> a = 2.094551 , b=2.094553 , c=2.094553 \n",
      "Step 21 ----> a = 2.094551 , b=2.094552 , c=2.094552 \n",
      "\n",
      "Bisection Root  found at x=2.094552\n"
     ]
    }
   ],
   "source": [
    "def f(x) :\n",
    "    return x**3 -2*x -5\n",
    "a = 2\n",
    "b = 3\n",
    "tolerance = 1e-6\n",
    "x0 = a \n",
    "max_iterations = 100\n",
    "for  i in range(max_iterations) :\n",
    "    print(f\"Step {i+1} ----> a = {a:.6f} , b={b:.6f} , c={b:.6f} \")\n",
    "    c = (a+b)/2\n",
    "    if abs(f(c))<tolerance:\n",
    "        print(f\"\\nBisection Root  found at x={c:.6f}\")\n",
    "        break\n",
    "    elif f(c) * f(a) <0 :\n",
    "        b= c\n",
    "    else:\n",
    "        a = c "
   ]
  }
 ],
 "metadata": {
  "kernelspec": {
   "display_name": "Python 3 (ipykernel)",
   "language": "python",
   "name": "python3"
  }
 },
 "nbformat": 4,
 "nbformat_minor": 5
}
